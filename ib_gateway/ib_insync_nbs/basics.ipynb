{
 "cells": [
  {
   "cell_type": "markdown",
   "metadata": {},
   "source": [
    "# Basics\n",
    "\n",
    "Let's first take a look at what's inside the ``ib_insync`` package:"
   ]
  },
  {
   "cell_type": "code",
   "execution_count": 1,
   "metadata": {},
   "outputs": [
    {
     "name": "stdout",
     "output_type": "stream",
     "text": [
      "['Event', 'util', 'Client', 'Bag', 'Bond', 'CFD', 'ComboLeg', 'Commodity', 'ContFuture', 'Contract', 'ContractDescription', 'ContractDetails', 'Crypto', 'DeltaNeutralContract', 'Forex', 'Future', 'FuturesOption', 'Index', 'MutualFund', 'Option', 'ScanData', 'Stock', 'TagValue', 'Warrant', 'FlexError', 'FlexReport', 'IB', 'IBC', 'IBController', 'Watchdog', 'AccountValue', 'BarData', 'BarDataList', 'CommissionReport', 'ConnectionStats', 'DOMLevel', 'DepthMktDataDescription', 'Dividends', 'Execution', 'ExecutionFilter', 'FamilyCode', 'Fill', 'FundamentalRatios', 'HistogramData', 'HistoricalNews', 'HistoricalTick', 'HistoricalTickBidAsk', 'HistoricalTickLast', 'MktDepthData', 'NewsArticle', 'NewsBulletin', 'NewsProvider', 'NewsTick', 'OptionChain', 'OptionComputation', 'PnL', 'PnLSingle', 'PortfolioItem', 'Position', 'PriceIncrement', 'RealTimeBar', 'RealTimeBarList', 'ScanDataList', 'ScannerSubscription', 'SmartComponent', 'SoftDollarTier', 'TickAttrib', 'TickAttribBidAsk', 'TickAttribLast', 'TickByTickAllLast', 'TickByTickBidAsk', 'TickByTickMidPoint', 'TickData', 'TradeLogEntry', 'BracketOrder', 'ExecutionCondition', 'LimitOrder', 'MarginCondition', 'MarketOrder', 'Order', 'OrderComboLeg', 'OrderCondition', 'OrderState', 'OrderStatus', 'PercentChangeCondition', 'PriceCondition', 'StopLimitOrder', 'StopOrder', 'TimeCondition', 'Trade', 'VolumeCondition', 'Ticker', '__version__', '__version_info__', 'RequestError', 'Wrapper']\n"
     ]
    }
   ],
   "source": [
    "import ib_insync\n",
    "print(ib_insync.__all__)"
   ]
  },
  {
   "cell_type": "markdown",
   "metadata": {},
   "source": [
    "### Importing\n",
    "The following two lines are used at the top of all notebooks. The first line imports everything and the second\n",
    "starts an event loop to keep the notebook live updated:"
   ]
  },
  {
   "cell_type": "code",
   "execution_count": 2,
   "metadata": {},
   "outputs": [],
   "source": [
    "from ib_insync import *\n",
    "util.startLoop()"
   ]
  },
  {
   "cell_type": "markdown",
   "metadata": {},
   "source": [
    "*Note that startLoop() only works in notebooks, not in regular Python programs.*"
   ]
  },
  {
   "cell_type": "markdown",
   "metadata": {},
   "source": [
    "### Connecting\n",
    "The main player of the whole package is the \"IB\" class. Let's create an IB instance and connect to a running TWS/IBG application:"
   ]
  },
  {
   "cell_type": "code",
   "execution_count": 3,
   "metadata": {
    "scrolled": true
   },
   "outputs": [
    {
     "data": {
      "text/plain": [
       "<IB connected to 127.0.0.1:4001 clientId=10>"
      ]
     },
     "execution_count": 3,
     "metadata": {},
     "output_type": "execute_result"
    }
   ],
   "source": [
    "ib = IB()\n",
    "ib.connect('127.0.0.1', 4001, clientId=10)"
   ]
  },
  {
   "cell_type": "markdown",
   "metadata": {},
   "source": [
    "If the connection failed, then verify that the application has the API port enabled and double-check the hostname and port. For IB Gateway the default port is 4002. Make sure the clientId is not already in use.\n",
    "\n",
    "If the connection succeeded, then ib will be synchronized with TWS/IBG. The \"current state\" is now available via methods such as ib.positions(), ib.trades(), ib.openTrades(), ib.accountValues() or ib.tickers(). Let's list the current positions:"
   ]
  },
  {
   "cell_type": "code",
   "execution_count": 4,
   "metadata": {},
   "outputs": [
    {
     "data": {
      "text/plain": [
       "[Position(account='U10390046', contract=Stock(conId=170547560, symbol='PSQ', exchange='ARCA', currency='USD', localSymbol='PSQ', tradingClass='PSQ'), position=135.0, avgCost=0.1014074),\n",
       " Position(account='U10390046', contract=Stock(conId=317467468, symbol='DOG', exchange='ARCA', currency='USD', localSymbol='DOG', tradingClass='DOG'), position=51.0, avgCost=0.69941175),\n",
       " Position(account='U10390046', contract=Stock(conId=193461280, symbol='RWM', exchange='ARCA', currency='USD', localSymbol='RWM', tradingClass='RWM'), position=75.0, avgCost=0.32773335),\n",
       " Position(account='U10390046', contract=Stock(conId=46956679, symbol='EFZ', exchange='ARCA', currency='USD', localSymbol='EFZ', tradingClass='EFZ'), position=111.0, avgCost=0.19855855),\n",
       " Position(account='U10390046', contract=Stock(conId=47048743, symbol='EUM', exchange='ARCA', currency='USD', localSymbol='EUM', tradingClass='EUM'), position=159.0, avgCost=0.0973585),\n",
       " Position(account='U10390046', contract=Stock(conId=236687911, symbol='SH', exchange='ARCA', currency='USD', localSymbol='SH', tradingClass='SH'), position=116.0, avgCost=0.13715515)]"
      ]
     },
     "execution_count": 4,
     "metadata": {},
     "output_type": "execute_result"
    }
   ],
   "source": [
    "ib.positions()"
   ]
  },
  {
   "cell_type": "markdown",
   "metadata": {},
   "source": [
    "Or filter the account values to get the liquidation value:"
   ]
  },
  {
   "cell_type": "code",
   "execution_count": 5,
   "metadata": {},
   "outputs": [
    {
     "data": {
      "text/plain": [
       "[AccountValue(account='U10390046', tag='NetLiquidationByCurrency', value='16673.4446', currency='BASE', modelCode='')]"
      ]
     },
     "execution_count": 5,
     "metadata": {},
     "output_type": "execute_result"
    }
   ],
   "source": [
    "[v for v in ib.accountValues() if v.tag == 'NetLiquidationByCurrency' and v.currency == 'BASE']"
   ]
  },
  {
   "cell_type": "markdown",
   "metadata": {},
   "source": [
    "The \"current state\" will automatically be kept in sync with TWS/IBG. So an order fill will be added as soon as it is reported, or account values will be updated as soon as they change in TWS."
   ]
  },
  {
   "cell_type": "markdown",
   "metadata": {},
   "source": [
    "### Contracts\n",
    "\n",
    "Contracts can be specified in different ways:\n",
    "* The ibapi way, by creating an empty Contract object and setting its attributes one by one;\n",
    "* By using Contract and giving the attributes as keyword argument;\n",
    "* By using the specialized Stock, Option, Future, Forex, Index, CFD, Commodity,\n",
    "  Bond, FuturesOption, MutualFund or Warrant contracts.\n",
    "\n",
    "Some examples:"
   ]
  },
  {
   "cell_type": "code",
   "execution_count": 6,
   "metadata": {},
   "outputs": [],
   "source": [
    "Contract(conId=270639)\n",
    "Stock('AMD', 'SMART', 'USD')\n",
    "Stock('INTC', 'SMART', 'USD', primaryExchange='NASDAQ')\n",
    "Forex('EURUSD')\n",
    "CFD('IBUS30')\n",
    "Future('ES', '20180921', 'GLOBEX')\n",
    "Option('SPY', '20170721', 240, 'C', 'SMART')\n",
    "Bond(secIdType='ISIN', secId='US03076KAA60');"
   ]
  },
  {
   "cell_type": "markdown",
   "metadata": {},
   "source": [
    "### Sending a request\n",
    "\n",
    "The IB class has nearly all request methods that the IB API offers. The methods that return a result will block until finished and then return the result. Take for example reqContractDetails:"
   ]
  },
  {
   "cell_type": "code",
   "execution_count": null,
   "metadata": {},
   "outputs": [],
   "source": [
    "contract = Stock('TSLA', 'SMART', 'USD')\n",
    "ib.reqContractDetails(contract)"
   ]
  },
  {
   "cell_type": "markdown",
   "metadata": {},
   "source": [
    "### Current state vs request\n",
    "\n",
    "Doing a request involves network traffic going up and down and can take considerable time. The current state on the other hand is always immediately available. So it is preferable to use the current state methods over requests. For example, use ``ib.openOrders()`` in preference over ``ib.reqOpenOrders()``, or ``ib.positions()`` over ``ib.reqPositions()``, etc:"
   ]
  },
  {
   "cell_type": "code",
   "execution_count": 8,
   "metadata": {},
   "outputs": [
    {
     "name": "stdout",
     "output_type": "stream",
     "text": [
      "CPU times: user 5 µs, sys: 3 µs, total: 8 µs\n",
      "Wall time: 9.06 µs\n"
     ]
    }
   ],
   "source": [
    "%time l = ib.positions()"
   ]
  },
  {
   "cell_type": "code",
   "execution_count": 9,
   "metadata": {},
   "outputs": [
    {
     "name": "stdout",
     "output_type": "stream",
     "text": [
      "CPU times: user 0 ns, sys: 745 µs, total: 745 µs\n",
      "Wall time: 32.7 ms\n"
     ]
    }
   ],
   "source": [
    "%time l = ib.reqPositions()"
   ]
  },
  {
   "cell_type": "markdown",
   "metadata": {},
   "source": [
    "### Logging\n",
    "\n",
    "The following will put log messages of INFO and higher level under the current active cell:"
   ]
  },
  {
   "cell_type": "code",
   "execution_count": 10,
   "metadata": {},
   "outputs": [],
   "source": [
    "util.logToConsole()"
   ]
  },
  {
   "cell_type": "markdown",
   "metadata": {},
   "source": [
    "To see all debug messages (including network traffic):"
   ]
  },
  {
   "cell_type": "code",
   "execution_count": 11,
   "metadata": {},
   "outputs": [],
   "source": [
    "import logging\n",
    "util.logToConsole(logging.DEBUG)"
   ]
  },
  {
   "cell_type": "markdown",
   "metadata": {},
   "source": [
    "### Disconnecting\n",
    "\n",
    "The following will disconnect ``ib`` and clear all its state:"
   ]
  },
  {
   "cell_type": "code",
   "execution_count": 8,
   "metadata": {},
   "outputs": [],
   "source": [
    "ib.disconnect()"
   ]
  },
  {
   "cell_type": "code",
   "execution_count": null,
   "metadata": {},
   "outputs": [],
   "source": []
  }
 ],
 "metadata": {
  "kernelspec": {
   "display_name": "Python 3 (ipykernel)",
   "language": "python",
   "name": "python3"
  },
  "language_info": {
   "codemirror_mode": {
    "name": "ipython",
    "version": 3
   },
   "file_extension": ".py",
   "mimetype": "text/x-python",
   "name": "python",
   "nbconvert_exporter": "python",
   "pygments_lexer": "ipython3",
   "version": "3.8.13"
  }
 },
 "nbformat": 4,
 "nbformat_minor": 4
}
